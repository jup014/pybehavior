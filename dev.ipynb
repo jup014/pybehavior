{
 "cells": [
  {
   "cell_type": "code",
   "execution_count": null,
   "metadata": {},
   "outputs": [],
   "source": [
    "!pip install BayesLDM --quiet\n",
    "!pip install --upgrade jupyter ipywidgets --quiet\n",
    "!pip install networkx --quiet"
   ]
  },
  {
   "cell_type": "markdown",
   "metadata": {},
   "source": [
    "# JustWalk Steps"
   ]
  },
  {
   "cell_type": "code",
   "execution_count": null,
   "metadata": {},
   "outputs": [],
   "source": [
    "from pybehavior.models import DataSet\n",
    "from pybehavior.tools import Loader, Preprocessor\n",
    "import pandas as pd\n",
    "import datetime\n",
    "\n",
    "pd.set_option('display.max_colwidth', None)\n",
    "pd.set_option('display.max_columns', None)  "
   ]
  },
  {
   "cell_type": "code",
   "execution_count": null,
   "metadata": {},
   "outputs": [],
   "source": [
    "data = pd.read_pickle('data/walk/data7.pickle')\n",
    "data.tolist()\n"
   ]
  },
  {
   "cell_type": "markdown",
   "metadata": {},
   "source": [
    "# JustWalk EMA"
   ]
  },
  {
   "cell_type": "code",
   "execution_count": null,
   "metadata": {},
   "outputs": [],
   "source": [
    "import pandas as pd\n",
    "import numpy as np\n",
    "import matplotlib.pyplot as plt\n",
    "\n",
    "import numpy as np\n",
    "import pandas as pd\n",
    "import matplotlib.pyplot as plt\n",
    "import BayesLDM.BayesLDM as BayesLDM\n",
    "from pybehavior.tools import MCMC_Parser, BayesModelBuilder\n",
    "\n",
    "data:pd.DataFrame = pd.read_pickle('data/ema/data11.pickle')\n",
    "data = data.rename(columns={'steps': 'behavior', 'cue_to_action': 'cue'})\n",
    "data = data.loc[data.rnum == 17].reset_index(drop=True)\n",
    "\n",
    "# fig, ax = plt.subplots()\n",
    "# ax.plot(data[['E10']])\n",
    "# plt.show()\n",
    "\n",
    "# data.columns\n",
    "# ['rnum', 'E5', 'E6', 'E7', 'E8', 'E9', 'E10', 'E11', 'E12.1.1',\n",
    "#        'E12.1.2', 'E12.4', 'E12.5', 'E12.6', 'E12.7', 'day_index',\n",
    "#        'day_of_week', 'steps', 'AWND', 'PRCP', 'TMAX', 'TMIN', 'self_efficacy',\n",
    "#        'perceived_barrier', 'environmental_context', 'context_of_walking',\n",
    "#        'typicalness_of_context', 'self_management_skills', 'cue_to_action',\n",
    "#        'environmental_context_weekly', 'social_support_friends']"
   ]
  },
  {
   "cell_type": "code",
   "execution_count": null,
   "metadata": {},
   "outputs": [],
   "source": [
    "# ['rnum', 'E5', 'E6', 'E7', 'E8', 'E9', 'E10', 'E11', 'E12.1.1',\n",
    "#        'E12.1.2', 'E12.4', 'E12.5', 'E12.6', 'E12.7', 'day_index',\n",
    "#        'day_of_week', 'steps', 'AWND', 'PRCP', 'TMAX', 'TMIN', 'self_efficacy',\n",
    "#        'perceived_barrier', 'environmental_context', 'context_of_walking',\n",
    "#        'typicalness_of_context', 'self_management_skills', 'cue_to_action',\n",
    "#        'environmental_context_weekly', 'social_support_friends']\n",
    "\n",
    "data.name = \"data\"\n",
    "\n",
    "builder = BayesModelBuilder('model')\n",
    "\n",
    "\n",
    "# builder.add_variable('g_self_efficacy', mean=0, stdev=1)\n",
    "# builder.add_variable('b_self_efficacy', mean=0, stdev=1)\n",
    "# builder.add_variable('s_self_efficacy', 'exponential', exponent=0.1)\n",
    "\n",
    "# builder.add_variable('self_efficacy[0]', mean='0', stdev='1')\n",
    "# builder.add_variable_autoregressive('self_efficacy', 't', \"normal\", gain='g_self_efficacy', bias='b_self_efficacy', stdev='s_self_efficacy')\n",
    "\n",
    "builder.add_variable_regression_edge([\n",
    "    ('self_efficacy', 'self_efficacy'),\n",
    "    ('perceived_barrier', 'perceived_barrier'),\n",
    "    ('perceived_barrier', 'self_efficacy'),\n",
    "    ('behavior', 'behavior'),\n",
    "    ('cue', 'cue'),\n",
    "    ('self_efficacy', 'behavior'),\n",
    "    ('cue', 'behavior')\n",
    "    ])\n",
    "\n",
    "print(builder.get_full_model())\n",
    "\n",
    "N = data.shape[0]\n",
    "\n",
    "for window_size in range(10, N):\n",
    "    actual_window_size = window_size + 1        # including the last missing data\n",
    "    for start_point in range(0, N - actual_window_size):\n",
    "        print(\"cropping {}:{}\".format(start_point, actual_window_size + start_point + 1))\n",
    "        current_data = data.iloc[start_point:(start_point + actual_window_size) + 1]\n",
    "        current_data.loc[actual_window_size:actual_window_size] = None  # type: ignore\n",
    "\n",
    "        builder.set_index('t', 0, actual_window_size)\n",
    "\n",
    "\n",
    "\n",
    "data.loc[10:10]\n"
   ]
  },
  {
   "cell_type": "code",
   "execution_count": null,
   "metadata": {},
   "outputs": [],
   "source": [
    "\n",
    "# for size in range(10, 65):\n",
    "    \n",
    "#     builder.set_index('t', 0, 64)\n",
    "\n",
    "\n",
    "# data.loc[data.t==64, 'self_efficacy'] = None  # type: ignore\n",
    "# data.loc[data.t==64, 'perceived_barrier'] = None  # type: ignore\n",
    "# data.loc[data.t==64, 'behavior'] = None  # type: ignore\n",
    "# data.loc[data.t==64, 'cue'] = None  # type: ignore\n",
    "\n",
    "# model = BayesLDM.compile(builder.get_full_model(), obs=['self_efficacy', 'perceived_barrier', 'cue', 'behavior'], data=[data]) \n",
    "# samples = model.sample(b_post_process=True)\n",
    "\n",
    "\n",
    "parser = MCMC_Parser(model)\n",
    "\n",
    "parser.variable['self_efficacy'][64]"
   ]
  },
  {
   "cell_type": "code",
   "execution_count": null,
   "metadata": {},
   "outputs": [],
   "source": []
  },
  {
   "cell_type": "code",
   "execution_count": null,
   "metadata": {},
   "outputs": [],
   "source": [
    "# ['rnum', 'E5', 'E6', 'E7', 'E8', 'E9', 'E10', 'E11', 'E12.1.1',\n",
    "#        'E12.1.2', 'E12.4', 'E12.5', 'E12.6', 'E12.7', 'day_index',\n",
    "#        'day_of_week', 'steps', 'AWND', 'PRCP', 'TMAX', 'TMIN', 'self_efficacy',\n",
    "#        'perceived_barrier', 'environmental_context', 'context_of_walking',\n",
    "#        'typicalness_of_context', 'self_management_skills', 'cue_to_action',\n",
    "#        'environmental_context_weekly', 'social_support_friends']\n",
    "\n",
    "data.name = \"data\"\n",
    "\n",
    "builder = BayesModelBuilder('model')\n",
    "\n",
    "builder.set_index('t', 0, 64)\n",
    "\n",
    "builder.add_variable_regression_edge([('self_efficacy', 'perceived_barrier')])\n",
    "\n",
    "print(builder.get_full_model())\n",
    "\n",
    "# data.loc[data.t==64, 'self_efficacy'] = None  # type: ignore\n",
    "\n",
    "# model = BayesLDM.compile(builder.get_full_model(), obs=['self_efficacy'], data=[data]) \n",
    "# model.sample(b_post_process=True)\n",
    "\n",
    "# parser = MCMC_Parser(model)\n",
    "\n",
    "# parser.__dict__"
   ]
  },
  {
   "cell_type": "code",
   "execution_count": null,
   "metadata": {},
   "outputs": [],
   "source": [
    "            \n",
    "\n",
    "\n",
    "parser = MCMC_Parser(model)\n",
    "\n",
    "parser.__dict__"
   ]
  },
  {
   "cell_type": "code",
   "execution_count": null,
   "metadata": {},
   "outputs": [],
   "source": [
    "data"
   ]
  },
  {
   "cell_type": "code",
   "execution_count": null,
   "metadata": {},
   "outputs": [],
   "source": [
    "data = pd.read_pickle('data/ema/data11.pickle')\n",
    "total = data.groupby('rnum').t.count().reset_index()\n",
    "items = [x for x in data.columns.to_list() if x.startswith('E')]\n",
    "data2 = data[items].isna()\n",
    "non_zero = data2.sum(axis=1) < 10\n",
    "data['non_zero'] = non_zero\n",
    "stat = data[['rnum', 'non_zero']].groupby('rnum').sum().reset_index()\n",
    "data = pd.merge(stat, total, on=\"rnum\")\n",
    "data['non_zero'] = data['non_zero'] / data.t\n",
    "display(data[data.non_zero > 0.6].sort_values('non_zero', ascending=False))\n",
    "print(data[data.non_zero > 0.6].shape)\n",
    "included_participants = data[data.non_zero > 0.6].rnum.to_list()\n",
    "included_participants\n"
   ]
  },
  {
   "cell_type": "code",
   "execution_count": null,
   "metadata": {},
   "outputs": [],
   "source": [
    "\n",
    "\n",
    "\n",
    "\n"
   ]
  }
 ],
 "metadata": {
  "kernelspec": {
   "display_name": "Python 3.9.7 ('venv': venv)",
   "language": "python",
   "name": "python3"
  },
  "language_info": {
   "codemirror_mode": {
    "name": "ipython",
    "version": 3
   },
   "file_extension": ".py",
   "mimetype": "text/x-python",
   "name": "python",
   "nbconvert_exporter": "python",
   "pygments_lexer": "ipython3",
   "version": "3.9.7"
  },
  "orig_nbformat": 4,
  "vscode": {
   "interpreter": {
    "hash": "86ecaad21b3a9ed040a1fdc7b58722f8dbb60e2ef13c29a2cf84e0ca27486918"
   }
  }
 },
 "nbformat": 4,
 "nbformat_minor": 2
}
