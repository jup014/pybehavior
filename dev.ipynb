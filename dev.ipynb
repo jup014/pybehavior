{
 "cells": [
  {
   "cell_type": "markdown",
   "metadata": {},
   "source": [
    "# JustWalk Steps"
   ]
  },
  {
   "cell_type": "code",
   "execution_count": null,
   "metadata": {},
   "outputs": [],
   "source": [
    "from pybehavior.models import DataSet\n",
    "from pybehavior.tools import Loader, Preprocessor\n",
    "import pandas as pd\n",
    "import datetime\n",
    "\n",
    "pd.set_option('display.max_colwidth', None)\n",
    "pd.set_option('display.max_columns', None)  "
   ]
  },
  {
   "cell_type": "code",
   "execution_count": null,
   "metadata": {},
   "outputs": [],
   "source": [
    "data = pd.read_pickle('data/walk/data7.pickle')\n",
    "data.tolist()\n"
   ]
  },
  {
   "cell_type": "markdown",
   "metadata": {},
   "source": [
    "# JustWalk EMA"
   ]
  },
  {
   "cell_type": "code",
   "execution_count": null,
   "metadata": {},
   "outputs": [],
   "source": [
    "\n",
    "data = pd.read_pickle('data/ema/data3.pickle')\n",
    "\n",
    "data = data.groupby(['rnum', 'created', 'question_id']).agg({\"answer_value\": \"mean\"})\n",
    "data = data.pivot_table(index=['rnum', 'created'], columns=['question_id'], values='answer_value')\n",
    "data = data.sort_values(['rnum', 'created']).reset_index()\n",
    "data.columns.name = None\n",
    "\n",
    "data"
   ]
  },
  {
   "cell_type": "code",
   "execution_count": null,
   "metadata": {},
   "outputs": [],
   "source": [
    "data = pd.read_pickle('data/ema/data4.pickle')\n",
    "\n",
    "Preprocessor.fill_missing_dates(data, 'created', 'rnum')"
   ]
  },
  {
   "cell_type": "code",
   "execution_count": null,
   "metadata": {},
   "outputs": [],
   "source": [
    "data = pd.read_pickle('data/ema/data5.pickle')\n",
    "data.to_csv('ema_20220922.csv')"
   ]
  },
  {
   "cell_type": "code",
   "execution_count": null,
   "metadata": {},
   "outputs": [],
   "source": [
    "data = pd.read_pickle('data/ema/data3.pickle')\n",
    "\n",
    "display(data.shape)\n",
    "display(data.drop_duplicates().shape)\n",
    "display(data[['rnum', 'created']].drop_duplicates().shape)\n",
    "display(data[['rnum', 'created', 'question_id']].drop_duplicates().shape)\n",
    "\n",
    "\n"
   ]
  },
  {
   "cell_type": "code",
   "execution_count": null,
   "metadata": {},
   "outputs": [],
   "source": [
    "data = pd.read_pickle('data/ema/data5.pickle')\n",
    "data"
   ]
  },
  {
   "cell_type": "code",
   "execution_count": null,
   "metadata": {},
   "outputs": [],
   "source": [
    "data = pd.read_pickle('data/ema/data6.pickle')\n",
    "data['day_of_week'] = data.created.dt.day_of_week\n",
    "data"
   ]
  },
  {
   "cell_type": "code",
   "execution_count": null,
   "metadata": {},
   "outputs": [],
   "source": [
    "data = data.pivot_table(index=['rnum', 'created'], columns='question_id', values='answer_value')\n",
    "data.to_csv('data.csv')"
   ]
  }
 ],
 "metadata": {
  "kernelspec": {
   "display_name": "Python 3.9.7 ('venv': venv)",
   "language": "python",
   "name": "python3"
  },
  "language_info": {
   "codemirror_mode": {
    "name": "ipython",
    "version": 3
   },
   "file_extension": ".py",
   "mimetype": "text/x-python",
   "name": "python",
   "nbconvert_exporter": "python",
   "pygments_lexer": "ipython3",
   "version": "3.9.7"
  },
  "orig_nbformat": 4,
  "vscode": {
   "interpreter": {
    "hash": "86ecaad21b3a9ed040a1fdc7b58722f8dbb60e2ef13c29a2cf84e0ca27486918"
   }
  }
 },
 "nbformat": 4,
 "nbformat_minor": 2
}
